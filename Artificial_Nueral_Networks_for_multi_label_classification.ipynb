{
  "nbformat": 4,
  "nbformat_minor": 0,
  "metadata": {
    "colab": {
      "provenance": []
    },
    "kernelspec": {
      "name": "python3",
      "display_name": "Python 3"
    },
    "language_info": {
      "name": "python"
    }
  },
  "cells": [
    {
      "cell_type": "markdown",
      "source": [
        "##Importing the packages"
      ],
      "metadata": {
        "id": "u9sOYgRzuFvT"
      }
    },
    {
      "cell_type": "code",
      "execution_count": null,
      "metadata": {
        "id": "HAhqQhThUjR3"
      },
      "outputs": [],
      "source": [
        "import numpy as np\n",
        "import pandas as pd\n",
        "import matplotlib.pyplot as plt\n",
        "import sklearn\n",
        "import tensorflow"
      ]
    },
    {
      "cell_type": "markdown",
      "source": [
        "##Load the data"
      ],
      "metadata": {
        "id": "ugM9V7l_uKXB"
      }
    },
    {
      "cell_type": "code",
      "source": [
        "df=pd.read_csv('/content/drive/MyDrive/Dataset/Iris.csv')"
      ],
      "metadata": {
        "id": "V5KC33FuV1xE"
      },
      "execution_count": null,
      "outputs": []
    },
    {
      "cell_type": "code",
      "source": [
        "df.head()"
      ],
      "metadata": {
        "colab": {
          "base_uri": "https://localhost:8080/",
          "height": 206
        },
        "id": "PydkJr3iV-HT",
        "outputId": "ded65705-c380-417d-a1c5-d85d5d18bc27"
      },
      "execution_count": null,
      "outputs": [
        {
          "output_type": "execute_result",
          "data": {
            "text/plain": [
              "   Id  SepalLengthCm  SepalWidthCm  PetalLengthCm  PetalWidthCm      Species\n",
              "0   1            5.1           3.5            1.4           0.2  Iris-setosa\n",
              "1   2            4.9           3.0            1.4           0.2  Iris-setosa\n",
              "2   3            4.7           3.2            1.3           0.2  Iris-setosa\n",
              "3   4            4.6           3.1            1.5           0.2  Iris-setosa\n",
              "4   5            5.0           3.6            1.4           0.2  Iris-setosa"
            ],
            "text/html": [
              "\n",
              "  <div id=\"df-eee49ee6-d0a2-4843-b7c0-41ffd2ebd46d\">\n",
              "    <div class=\"colab-df-container\">\n",
              "      <div>\n",
              "<style scoped>\n",
              "    .dataframe tbody tr th:only-of-type {\n",
              "        vertical-align: middle;\n",
              "    }\n",
              "\n",
              "    .dataframe tbody tr th {\n",
              "        vertical-align: top;\n",
              "    }\n",
              "\n",
              "    .dataframe thead th {\n",
              "        text-align: right;\n",
              "    }\n",
              "</style>\n",
              "<table border=\"1\" class=\"dataframe\">\n",
              "  <thead>\n",
              "    <tr style=\"text-align: right;\">\n",
              "      <th></th>\n",
              "      <th>Id</th>\n",
              "      <th>SepalLengthCm</th>\n",
              "      <th>SepalWidthCm</th>\n",
              "      <th>PetalLengthCm</th>\n",
              "      <th>PetalWidthCm</th>\n",
              "      <th>Species</th>\n",
              "    </tr>\n",
              "  </thead>\n",
              "  <tbody>\n",
              "    <tr>\n",
              "      <th>0</th>\n",
              "      <td>1</td>\n",
              "      <td>5.1</td>\n",
              "      <td>3.5</td>\n",
              "      <td>1.4</td>\n",
              "      <td>0.2</td>\n",
              "      <td>Iris-setosa</td>\n",
              "    </tr>\n",
              "    <tr>\n",
              "      <th>1</th>\n",
              "      <td>2</td>\n",
              "      <td>4.9</td>\n",
              "      <td>3.0</td>\n",
              "      <td>1.4</td>\n",
              "      <td>0.2</td>\n",
              "      <td>Iris-setosa</td>\n",
              "    </tr>\n",
              "    <tr>\n",
              "      <th>2</th>\n",
              "      <td>3</td>\n",
              "      <td>4.7</td>\n",
              "      <td>3.2</td>\n",
              "      <td>1.3</td>\n",
              "      <td>0.2</td>\n",
              "      <td>Iris-setosa</td>\n",
              "    </tr>\n",
              "    <tr>\n",
              "      <th>3</th>\n",
              "      <td>4</td>\n",
              "      <td>4.6</td>\n",
              "      <td>3.1</td>\n",
              "      <td>1.5</td>\n",
              "      <td>0.2</td>\n",
              "      <td>Iris-setosa</td>\n",
              "    </tr>\n",
              "    <tr>\n",
              "      <th>4</th>\n",
              "      <td>5</td>\n",
              "      <td>5.0</td>\n",
              "      <td>3.6</td>\n",
              "      <td>1.4</td>\n",
              "      <td>0.2</td>\n",
              "      <td>Iris-setosa</td>\n",
              "    </tr>\n",
              "  </tbody>\n",
              "</table>\n",
              "</div>\n",
              "      <button class=\"colab-df-convert\" onclick=\"convertToInteractive('df-eee49ee6-d0a2-4843-b7c0-41ffd2ebd46d')\"\n",
              "              title=\"Convert this dataframe to an interactive table.\"\n",
              "              style=\"display:none;\">\n",
              "        \n",
              "  <svg xmlns=\"http://www.w3.org/2000/svg\" height=\"24px\"viewBox=\"0 0 24 24\"\n",
              "       width=\"24px\">\n",
              "    <path d=\"M0 0h24v24H0V0z\" fill=\"none\"/>\n",
              "    <path d=\"M18.56 5.44l.94 2.06.94-2.06 2.06-.94-2.06-.94-.94-2.06-.94 2.06-2.06.94zm-11 1L8.5 8.5l.94-2.06 2.06-.94-2.06-.94L8.5 2.5l-.94 2.06-2.06.94zm10 10l.94 2.06.94-2.06 2.06-.94-2.06-.94-.94-2.06-.94 2.06-2.06.94z\"/><path d=\"M17.41 7.96l-1.37-1.37c-.4-.4-.92-.59-1.43-.59-.52 0-1.04.2-1.43.59L10.3 9.45l-7.72 7.72c-.78.78-.78 2.05 0 2.83L4 21.41c.39.39.9.59 1.41.59.51 0 1.02-.2 1.41-.59l7.78-7.78 2.81-2.81c.8-.78.8-2.07 0-2.86zM5.41 20L4 18.59l7.72-7.72 1.47 1.35L5.41 20z\"/>\n",
              "  </svg>\n",
              "      </button>\n",
              "      \n",
              "  <style>\n",
              "    .colab-df-container {\n",
              "      display:flex;\n",
              "      flex-wrap:wrap;\n",
              "      gap: 12px;\n",
              "    }\n",
              "\n",
              "    .colab-df-convert {\n",
              "      background-color: #E8F0FE;\n",
              "      border: none;\n",
              "      border-radius: 50%;\n",
              "      cursor: pointer;\n",
              "      display: none;\n",
              "      fill: #1967D2;\n",
              "      height: 32px;\n",
              "      padding: 0 0 0 0;\n",
              "      width: 32px;\n",
              "    }\n",
              "\n",
              "    .colab-df-convert:hover {\n",
              "      background-color: #E2EBFA;\n",
              "      box-shadow: 0px 1px 2px rgba(60, 64, 67, 0.3), 0px 1px 3px 1px rgba(60, 64, 67, 0.15);\n",
              "      fill: #174EA6;\n",
              "    }\n",
              "\n",
              "    [theme=dark] .colab-df-convert {\n",
              "      background-color: #3B4455;\n",
              "      fill: #D2E3FC;\n",
              "    }\n",
              "\n",
              "    [theme=dark] .colab-df-convert:hover {\n",
              "      background-color: #434B5C;\n",
              "      box-shadow: 0px 1px 3px 1px rgba(0, 0, 0, 0.15);\n",
              "      filter: drop-shadow(0px 1px 2px rgba(0, 0, 0, 0.3));\n",
              "      fill: #FFFFFF;\n",
              "    }\n",
              "  </style>\n",
              "\n",
              "      <script>\n",
              "        const buttonEl =\n",
              "          document.querySelector('#df-eee49ee6-d0a2-4843-b7c0-41ffd2ebd46d button.colab-df-convert');\n",
              "        buttonEl.style.display =\n",
              "          google.colab.kernel.accessAllowed ? 'block' : 'none';\n",
              "\n",
              "        async function convertToInteractive(key) {\n",
              "          const element = document.querySelector('#df-eee49ee6-d0a2-4843-b7c0-41ffd2ebd46d');\n",
              "          const dataTable =\n",
              "            await google.colab.kernel.invokeFunction('convertToInteractive',\n",
              "                                                     [key], {});\n",
              "          if (!dataTable) return;\n",
              "\n",
              "          const docLinkHtml = 'Like what you see? Visit the ' +\n",
              "            '<a target=\"_blank\" href=https://colab.research.google.com/notebooks/data_table.ipynb>data table notebook</a>'\n",
              "            + ' to learn more about interactive tables.';\n",
              "          element.innerHTML = '';\n",
              "          dataTable['output_type'] = 'display_data';\n",
              "          await google.colab.output.renderOutput(dataTable, element);\n",
              "          const docLink = document.createElement('div');\n",
              "          docLink.innerHTML = docLinkHtml;\n",
              "          element.appendChild(docLink);\n",
              "        }\n",
              "      </script>\n",
              "    </div>\n",
              "  </div>\n",
              "  "
            ]
          },
          "metadata": {},
          "execution_count": 5
        }
      ]
    },
    {
      "cell_type": "code",
      "source": [
        "df=df.drop(['Id'],axis=1)"
      ],
      "metadata": {
        "id": "Yl3he6Z8WCyj"
      },
      "execution_count": null,
      "outputs": []
    },
    {
      "cell_type": "code",
      "source": [
        "df['Species'].unique()"
      ],
      "metadata": {
        "colab": {
          "base_uri": "https://localhost:8080/"
        },
        "id": "CDYg_yKgWS7B",
        "outputId": "3b28b271-1749-4829-d6ae-e4f470c4f755"
      },
      "execution_count": null,
      "outputs": [
        {
          "output_type": "execute_result",
          "data": {
            "text/plain": [
              "array(['Iris-setosa', 'Iris-versicolor', 'Iris-virginica'], dtype=object)"
            ]
          },
          "metadata": {},
          "execution_count": 7
        }
      ]
    },
    {
      "cell_type": "code",
      "source": [
        "df['Species']=df['Species'].map({'Iris-setosa':0,'Iris-versicolor':1,'Iris-virginica':2}).astype(int)"
      ],
      "metadata": {
        "id": "zIT1VFK_WJTu"
      },
      "execution_count": null,
      "outputs": []
    },
    {
      "cell_type": "code",
      "source": [
        "df.head()"
      ],
      "metadata": {
        "colab": {
          "base_uri": "https://localhost:8080/",
          "height": 206
        },
        "id": "aZfmuOhsWkhb",
        "outputId": "cfb9e77e-9518-4a06-d657-72da1e93ff0b"
      },
      "execution_count": null,
      "outputs": [
        {
          "output_type": "execute_result",
          "data": {
            "text/plain": [
              "   SepalLengthCm  SepalWidthCm  PetalLengthCm  PetalWidthCm  Species\n",
              "0            5.1           3.5            1.4           0.2        0\n",
              "1            4.9           3.0            1.4           0.2        0\n",
              "2            4.7           3.2            1.3           0.2        0\n",
              "3            4.6           3.1            1.5           0.2        0\n",
              "4            5.0           3.6            1.4           0.2        0"
            ],
            "text/html": [
              "\n",
              "  <div id=\"df-6a5d4a76-bc1e-4445-9e5e-ebe770f4cffa\">\n",
              "    <div class=\"colab-df-container\">\n",
              "      <div>\n",
              "<style scoped>\n",
              "    .dataframe tbody tr th:only-of-type {\n",
              "        vertical-align: middle;\n",
              "    }\n",
              "\n",
              "    .dataframe tbody tr th {\n",
              "        vertical-align: top;\n",
              "    }\n",
              "\n",
              "    .dataframe thead th {\n",
              "        text-align: right;\n",
              "    }\n",
              "</style>\n",
              "<table border=\"1\" class=\"dataframe\">\n",
              "  <thead>\n",
              "    <tr style=\"text-align: right;\">\n",
              "      <th></th>\n",
              "      <th>SepalLengthCm</th>\n",
              "      <th>SepalWidthCm</th>\n",
              "      <th>PetalLengthCm</th>\n",
              "      <th>PetalWidthCm</th>\n",
              "      <th>Species</th>\n",
              "    </tr>\n",
              "  </thead>\n",
              "  <tbody>\n",
              "    <tr>\n",
              "      <th>0</th>\n",
              "      <td>5.1</td>\n",
              "      <td>3.5</td>\n",
              "      <td>1.4</td>\n",
              "      <td>0.2</td>\n",
              "      <td>0</td>\n",
              "    </tr>\n",
              "    <tr>\n",
              "      <th>1</th>\n",
              "      <td>4.9</td>\n",
              "      <td>3.0</td>\n",
              "      <td>1.4</td>\n",
              "      <td>0.2</td>\n",
              "      <td>0</td>\n",
              "    </tr>\n",
              "    <tr>\n",
              "      <th>2</th>\n",
              "      <td>4.7</td>\n",
              "      <td>3.2</td>\n",
              "      <td>1.3</td>\n",
              "      <td>0.2</td>\n",
              "      <td>0</td>\n",
              "    </tr>\n",
              "    <tr>\n",
              "      <th>3</th>\n",
              "      <td>4.6</td>\n",
              "      <td>3.1</td>\n",
              "      <td>1.5</td>\n",
              "      <td>0.2</td>\n",
              "      <td>0</td>\n",
              "    </tr>\n",
              "    <tr>\n",
              "      <th>4</th>\n",
              "      <td>5.0</td>\n",
              "      <td>3.6</td>\n",
              "      <td>1.4</td>\n",
              "      <td>0.2</td>\n",
              "      <td>0</td>\n",
              "    </tr>\n",
              "  </tbody>\n",
              "</table>\n",
              "</div>\n",
              "      <button class=\"colab-df-convert\" onclick=\"convertToInteractive('df-6a5d4a76-bc1e-4445-9e5e-ebe770f4cffa')\"\n",
              "              title=\"Convert this dataframe to an interactive table.\"\n",
              "              style=\"display:none;\">\n",
              "        \n",
              "  <svg xmlns=\"http://www.w3.org/2000/svg\" height=\"24px\"viewBox=\"0 0 24 24\"\n",
              "       width=\"24px\">\n",
              "    <path d=\"M0 0h24v24H0V0z\" fill=\"none\"/>\n",
              "    <path d=\"M18.56 5.44l.94 2.06.94-2.06 2.06-.94-2.06-.94-.94-2.06-.94 2.06-2.06.94zm-11 1L8.5 8.5l.94-2.06 2.06-.94-2.06-.94L8.5 2.5l-.94 2.06-2.06.94zm10 10l.94 2.06.94-2.06 2.06-.94-2.06-.94-.94-2.06-.94 2.06-2.06.94z\"/><path d=\"M17.41 7.96l-1.37-1.37c-.4-.4-.92-.59-1.43-.59-.52 0-1.04.2-1.43.59L10.3 9.45l-7.72 7.72c-.78.78-.78 2.05 0 2.83L4 21.41c.39.39.9.59 1.41.59.51 0 1.02-.2 1.41-.59l7.78-7.78 2.81-2.81c.8-.78.8-2.07 0-2.86zM5.41 20L4 18.59l7.72-7.72 1.47 1.35L5.41 20z\"/>\n",
              "  </svg>\n",
              "      </button>\n",
              "      \n",
              "  <style>\n",
              "    .colab-df-container {\n",
              "      display:flex;\n",
              "      flex-wrap:wrap;\n",
              "      gap: 12px;\n",
              "    }\n",
              "\n",
              "    .colab-df-convert {\n",
              "      background-color: #E8F0FE;\n",
              "      border: none;\n",
              "      border-radius: 50%;\n",
              "      cursor: pointer;\n",
              "      display: none;\n",
              "      fill: #1967D2;\n",
              "      height: 32px;\n",
              "      padding: 0 0 0 0;\n",
              "      width: 32px;\n",
              "    }\n",
              "\n",
              "    .colab-df-convert:hover {\n",
              "      background-color: #E2EBFA;\n",
              "      box-shadow: 0px 1px 2px rgba(60, 64, 67, 0.3), 0px 1px 3px 1px rgba(60, 64, 67, 0.15);\n",
              "      fill: #174EA6;\n",
              "    }\n",
              "\n",
              "    [theme=dark] .colab-df-convert {\n",
              "      background-color: #3B4455;\n",
              "      fill: #D2E3FC;\n",
              "    }\n",
              "\n",
              "    [theme=dark] .colab-df-convert:hover {\n",
              "      background-color: #434B5C;\n",
              "      box-shadow: 0px 1px 3px 1px rgba(0, 0, 0, 0.15);\n",
              "      filter: drop-shadow(0px 1px 2px rgba(0, 0, 0, 0.3));\n",
              "      fill: #FFFFFF;\n",
              "    }\n",
              "  </style>\n",
              "\n",
              "      <script>\n",
              "        const buttonEl =\n",
              "          document.querySelector('#df-6a5d4a76-bc1e-4445-9e5e-ebe770f4cffa button.colab-df-convert');\n",
              "        buttonEl.style.display =\n",
              "          google.colab.kernel.accessAllowed ? 'block' : 'none';\n",
              "\n",
              "        async function convertToInteractive(key) {\n",
              "          const element = document.querySelector('#df-6a5d4a76-bc1e-4445-9e5e-ebe770f4cffa');\n",
              "          const dataTable =\n",
              "            await google.colab.kernel.invokeFunction('convertToInteractive',\n",
              "                                                     [key], {});\n",
              "          if (!dataTable) return;\n",
              "\n",
              "          const docLinkHtml = 'Like what you see? Visit the ' +\n",
              "            '<a target=\"_blank\" href=https://colab.research.google.com/notebooks/data_table.ipynb>data table notebook</a>'\n",
              "            + ' to learn more about interactive tables.';\n",
              "          element.innerHTML = '';\n",
              "          dataTable['output_type'] = 'display_data';\n",
              "          await google.colab.output.renderOutput(dataTable, element);\n",
              "          const docLink = document.createElement('div');\n",
              "          docLink.innerHTML = docLinkHtml;\n",
              "          element.appendChild(docLink);\n",
              "        }\n",
              "      </script>\n",
              "    </div>\n",
              "  </div>\n",
              "  "
            ]
          },
          "metadata": {},
          "execution_count": 9
        }
      ]
    },
    {
      "cell_type": "markdown",
      "source": [
        "##splitting the data"
      ],
      "metadata": {
        "id": "QksE9nv_uPqn"
      }
    },
    {
      "cell_type": "code",
      "source": [
        "x=df.drop(['Species'],axis=1)\n",
        "y=df['Species']"
      ],
      "metadata": {
        "id": "rx4lzVNEWm0g"
      },
      "execution_count": null,
      "outputs": []
    },
    {
      "cell_type": "code",
      "source": [
        "x.head()"
      ],
      "metadata": {
        "colab": {
          "base_uri": "https://localhost:8080/",
          "height": 206
        },
        "id": "xV7QOBg1WtPz",
        "outputId": "79902ce7-06a1-4133-f100-3bc0d62f9248"
      },
      "execution_count": null,
      "outputs": [
        {
          "output_type": "execute_result",
          "data": {
            "text/plain": [
              "   SepalLengthCm  SepalWidthCm  PetalLengthCm  PetalWidthCm\n",
              "0            5.1           3.5            1.4           0.2\n",
              "1            4.9           3.0            1.4           0.2\n",
              "2            4.7           3.2            1.3           0.2\n",
              "3            4.6           3.1            1.5           0.2\n",
              "4            5.0           3.6            1.4           0.2"
            ],
            "text/html": [
              "\n",
              "  <div id=\"df-87c26983-48fe-48f3-aebd-225a77437d6e\">\n",
              "    <div class=\"colab-df-container\">\n",
              "      <div>\n",
              "<style scoped>\n",
              "    .dataframe tbody tr th:only-of-type {\n",
              "        vertical-align: middle;\n",
              "    }\n",
              "\n",
              "    .dataframe tbody tr th {\n",
              "        vertical-align: top;\n",
              "    }\n",
              "\n",
              "    .dataframe thead th {\n",
              "        text-align: right;\n",
              "    }\n",
              "</style>\n",
              "<table border=\"1\" class=\"dataframe\">\n",
              "  <thead>\n",
              "    <tr style=\"text-align: right;\">\n",
              "      <th></th>\n",
              "      <th>SepalLengthCm</th>\n",
              "      <th>SepalWidthCm</th>\n",
              "      <th>PetalLengthCm</th>\n",
              "      <th>PetalWidthCm</th>\n",
              "    </tr>\n",
              "  </thead>\n",
              "  <tbody>\n",
              "    <tr>\n",
              "      <th>0</th>\n",
              "      <td>5.1</td>\n",
              "      <td>3.5</td>\n",
              "      <td>1.4</td>\n",
              "      <td>0.2</td>\n",
              "    </tr>\n",
              "    <tr>\n",
              "      <th>1</th>\n",
              "      <td>4.9</td>\n",
              "      <td>3.0</td>\n",
              "      <td>1.4</td>\n",
              "      <td>0.2</td>\n",
              "    </tr>\n",
              "    <tr>\n",
              "      <th>2</th>\n",
              "      <td>4.7</td>\n",
              "      <td>3.2</td>\n",
              "      <td>1.3</td>\n",
              "      <td>0.2</td>\n",
              "    </tr>\n",
              "    <tr>\n",
              "      <th>3</th>\n",
              "      <td>4.6</td>\n",
              "      <td>3.1</td>\n",
              "      <td>1.5</td>\n",
              "      <td>0.2</td>\n",
              "    </tr>\n",
              "    <tr>\n",
              "      <th>4</th>\n",
              "      <td>5.0</td>\n",
              "      <td>3.6</td>\n",
              "      <td>1.4</td>\n",
              "      <td>0.2</td>\n",
              "    </tr>\n",
              "  </tbody>\n",
              "</table>\n",
              "</div>\n",
              "      <button class=\"colab-df-convert\" onclick=\"convertToInteractive('df-87c26983-48fe-48f3-aebd-225a77437d6e')\"\n",
              "              title=\"Convert this dataframe to an interactive table.\"\n",
              "              style=\"display:none;\">\n",
              "        \n",
              "  <svg xmlns=\"http://www.w3.org/2000/svg\" height=\"24px\"viewBox=\"0 0 24 24\"\n",
              "       width=\"24px\">\n",
              "    <path d=\"M0 0h24v24H0V0z\" fill=\"none\"/>\n",
              "    <path d=\"M18.56 5.44l.94 2.06.94-2.06 2.06-.94-2.06-.94-.94-2.06-.94 2.06-2.06.94zm-11 1L8.5 8.5l.94-2.06 2.06-.94-2.06-.94L8.5 2.5l-.94 2.06-2.06.94zm10 10l.94 2.06.94-2.06 2.06-.94-2.06-.94-.94-2.06-.94 2.06-2.06.94z\"/><path d=\"M17.41 7.96l-1.37-1.37c-.4-.4-.92-.59-1.43-.59-.52 0-1.04.2-1.43.59L10.3 9.45l-7.72 7.72c-.78.78-.78 2.05 0 2.83L4 21.41c.39.39.9.59 1.41.59.51 0 1.02-.2 1.41-.59l7.78-7.78 2.81-2.81c.8-.78.8-2.07 0-2.86zM5.41 20L4 18.59l7.72-7.72 1.47 1.35L5.41 20z\"/>\n",
              "  </svg>\n",
              "      </button>\n",
              "      \n",
              "  <style>\n",
              "    .colab-df-container {\n",
              "      display:flex;\n",
              "      flex-wrap:wrap;\n",
              "      gap: 12px;\n",
              "    }\n",
              "\n",
              "    .colab-df-convert {\n",
              "      background-color: #E8F0FE;\n",
              "      border: none;\n",
              "      border-radius: 50%;\n",
              "      cursor: pointer;\n",
              "      display: none;\n",
              "      fill: #1967D2;\n",
              "      height: 32px;\n",
              "      padding: 0 0 0 0;\n",
              "      width: 32px;\n",
              "    }\n",
              "\n",
              "    .colab-df-convert:hover {\n",
              "      background-color: #E2EBFA;\n",
              "      box-shadow: 0px 1px 2px rgba(60, 64, 67, 0.3), 0px 1px 3px 1px rgba(60, 64, 67, 0.15);\n",
              "      fill: #174EA6;\n",
              "    }\n",
              "\n",
              "    [theme=dark] .colab-df-convert {\n",
              "      background-color: #3B4455;\n",
              "      fill: #D2E3FC;\n",
              "    }\n",
              "\n",
              "    [theme=dark] .colab-df-convert:hover {\n",
              "      background-color: #434B5C;\n",
              "      box-shadow: 0px 1px 3px 1px rgba(0, 0, 0, 0.15);\n",
              "      filter: drop-shadow(0px 1px 2px rgba(0, 0, 0, 0.3));\n",
              "      fill: #FFFFFF;\n",
              "    }\n",
              "  </style>\n",
              "\n",
              "      <script>\n",
              "        const buttonEl =\n",
              "          document.querySelector('#df-87c26983-48fe-48f3-aebd-225a77437d6e button.colab-df-convert');\n",
              "        buttonEl.style.display =\n",
              "          google.colab.kernel.accessAllowed ? 'block' : 'none';\n",
              "\n",
              "        async function convertToInteractive(key) {\n",
              "          const element = document.querySelector('#df-87c26983-48fe-48f3-aebd-225a77437d6e');\n",
              "          const dataTable =\n",
              "            await google.colab.kernel.invokeFunction('convertToInteractive',\n",
              "                                                     [key], {});\n",
              "          if (!dataTable) return;\n",
              "\n",
              "          const docLinkHtml = 'Like what you see? Visit the ' +\n",
              "            '<a target=\"_blank\" href=https://colab.research.google.com/notebooks/data_table.ipynb>data table notebook</a>'\n",
              "            + ' to learn more about interactive tables.';\n",
              "          element.innerHTML = '';\n",
              "          dataTable['output_type'] = 'display_data';\n",
              "          await google.colab.output.renderOutput(dataTable, element);\n",
              "          const docLink = document.createElement('div');\n",
              "          docLink.innerHTML = docLinkHtml;\n",
              "          element.appendChild(docLink);\n",
              "        }\n",
              "      </script>\n",
              "    </div>\n",
              "  </div>\n",
              "  "
            ]
          },
          "metadata": {},
          "execution_count": 13
        }
      ]
    },
    {
      "cell_type": "code",
      "source": [
        "from sklearn.model_selection import train_test_split\n",
        "x_train,x_test,y_train,y_test=train_test_split(x ,y ,test_size=0.33, random_state=42)"
      ],
      "metadata": {
        "id": "7XnztkjaWwAo"
      },
      "execution_count": 31,
      "outputs": []
    },
    {
      "cell_type": "code",
      "source": [
        "len(x_train),len(y_train)"
      ],
      "metadata": {
        "colab": {
          "base_uri": "https://localhost:8080/"
        },
        "id": "dX2O9ZjjXYhx",
        "outputId": "29c518f3-03cc-44b4-db98-10d3809346ec"
      },
      "execution_count": 32,
      "outputs": [
        {
          "output_type": "execute_result",
          "data": {
            "text/plain": [
              "(100, 100)"
            ]
          },
          "metadata": {},
          "execution_count": 32
        }
      ]
    },
    {
      "cell_type": "code",
      "source": [
        "len(x_test),len(y_test)"
      ],
      "metadata": {
        "colab": {
          "base_uri": "https://localhost:8080/"
        },
        "id": "TXVldluLXaEe",
        "outputId": "b2c785d2-ea51-4d2c-9c79-f174a533a753"
      },
      "execution_count": 33,
      "outputs": [
        {
          "output_type": "execute_result",
          "data": {
            "text/plain": [
              "(50, 50)"
            ]
          },
          "metadata": {},
          "execution_count": 33
        }
      ]
    },
    {
      "cell_type": "markdown",
      "source": [
        "importing the packages required for the architecture"
      ],
      "metadata": {
        "id": "tD00_-6LuTZo"
      }
    },
    {
      "cell_type": "code",
      "source": [
        "from tensorflow import keras\n",
        "from tensorflow.keras.models import Sequential\n",
        "from tensorflow.keras.layers import Dense,Activation\n",
        "from tensorflow.keras.activations import sigmoid,relu,softmax,tanh"
      ],
      "metadata": {
        "id": "tQK2dAEOYrA5"
      },
      "execution_count": 34,
      "outputs": []
    },
    {
      "cell_type": "code",
      "source": [
        "model=Sequential()"
      ],
      "metadata": {
        "id": "UgUoQJdwY7Gn"
      },
      "execution_count": 35,
      "outputs": []
    },
    {
      "cell_type": "code",
      "source": [
        "x.shape[1]"
      ],
      "metadata": {
        "colab": {
          "base_uri": "https://localhost:8080/"
        },
        "id": "86WXIvoPcCLr",
        "outputId": "97e189ad-9bc7-46ff-9d5c-6b2cdeb45af4"
      },
      "execution_count": 39,
      "outputs": [
        {
          "output_type": "execute_result",
          "data": {
            "text/plain": [
              "4"
            ]
          },
          "metadata": {},
          "execution_count": 39
        }
      ]
    },
    {
      "cell_type": "code",
      "source": [
        "##first hidden layer\n",
        "model.add(Dense(units=32,kernel_initializer='he_uniform',activation='relu',input_dim=4))\n",
        "##second hidden layer\n",
        "model.add(Dense(units=16,kernel_initializer='he_uniform',activation='relu'))\n",
        "##third hidden layer\n",
        "model.add(Dense(units=8,kernel_initializer='he_uniform',activation='relu'))\n",
        "##output layer\n",
        "model.add(Dense(units=3,kernel_initializer='glorot_uniform',activation='softmax'))"
      ],
      "metadata": {
        "id": "mk2FTbbKY-FJ"
      },
      "execution_count": 40,
      "outputs": []
    },
    {
      "cell_type": "code",
      "source": [
        "model.compile(optimizer='adam',loss='sparse_categorical_crossentropy',metrics='accuracy')"
      ],
      "metadata": {
        "id": "rYOmh2HuaO7L"
      },
      "execution_count": 43,
      "outputs": []
    },
    {
      "cell_type": "markdown",
      "source": [
        "##Fitting the model"
      ],
      "metadata": {
        "id": "ATGeNxt8uq74"
      }
    },
    {
      "cell_type": "code",
      "source": [
        "model.fit(x_train,y_train,epochs=50,batch_size=10,validation_split=0.1)"
      ],
      "metadata": {
        "colab": {
          "base_uri": "https://localhost:8080/"
        },
        "id": "a_Iw5qnQaHqZ",
        "outputId": "3f83711a-8fa5-4b4c-b022-6b5182746df7"
      },
      "execution_count": 44,
      "outputs": [
        {
          "output_type": "stream",
          "name": "stdout",
          "text": [
            "Epoch 1/50\n",
            "9/9 [==============================] - 2s 35ms/step - loss: 1.1259 - accuracy: 0.3444 - val_loss: 1.0890 - val_accuracy: 0.4000\n",
            "Epoch 2/50\n",
            "9/9 [==============================] - 0s 7ms/step - loss: 1.0801 - accuracy: 0.3444 - val_loss: 1.0196 - val_accuracy: 0.4000\n",
            "Epoch 3/50\n",
            "9/9 [==============================] - 0s 7ms/step - loss: 1.0497 - accuracy: 0.3444 - val_loss: 0.9891 - val_accuracy: 0.4000\n",
            "Epoch 4/50\n",
            "9/9 [==============================] - 0s 7ms/step - loss: 1.0081 - accuracy: 0.3444 - val_loss: 0.9644 - val_accuracy: 0.4000\n",
            "Epoch 5/50\n",
            "9/9 [==============================] - 0s 7ms/step - loss: 0.9675 - accuracy: 0.3444 - val_loss: 0.9091 - val_accuracy: 0.4000\n",
            "Epoch 6/50\n",
            "9/9 [==============================] - 0s 7ms/step - loss: 0.9301 - accuracy: 0.3444 - val_loss: 0.8954 - val_accuracy: 0.4000\n",
            "Epoch 7/50\n",
            "9/9 [==============================] - 0s 7ms/step - loss: 0.9024 - accuracy: 0.3444 - val_loss: 0.8172 - val_accuracy: 0.4000\n",
            "Epoch 8/50\n",
            "9/9 [==============================] - 0s 9ms/step - loss: 0.8631 - accuracy: 0.3444 - val_loss: 0.7806 - val_accuracy: 0.4000\n",
            "Epoch 9/50\n",
            "9/9 [==============================] - 0s 6ms/step - loss: 0.8407 - accuracy: 0.3444 - val_loss: 0.7357 - val_accuracy: 0.8000\n",
            "Epoch 10/50\n",
            "9/9 [==============================] - 0s 7ms/step - loss: 0.8047 - accuracy: 0.6667 - val_loss: 0.6891 - val_accuracy: 1.0000\n",
            "Epoch 11/50\n",
            "9/9 [==============================] - 0s 7ms/step - loss: 0.7610 - accuracy: 0.8556 - val_loss: 0.6509 - val_accuracy: 1.0000\n",
            "Epoch 12/50\n",
            "9/9 [==============================] - 0s 7ms/step - loss: 0.7169 - accuracy: 0.8889 - val_loss: 0.6303 - val_accuracy: 1.0000\n",
            "Epoch 13/50\n",
            "9/9 [==============================] - 0s 6ms/step - loss: 0.6808 - accuracy: 0.8778 - val_loss: 0.5899 - val_accuracy: 1.0000\n",
            "Epoch 14/50\n",
            "9/9 [==============================] - 0s 7ms/step - loss: 0.6548 - accuracy: 0.8444 - val_loss: 0.5236 - val_accuracy: 1.0000\n",
            "Epoch 15/50\n",
            "9/9 [==============================] - 0s 6ms/step - loss: 0.5825 - accuracy: 0.9222 - val_loss: 0.4530 - val_accuracy: 1.0000\n",
            "Epoch 16/50\n",
            "9/9 [==============================] - 0s 8ms/step - loss: 0.5434 - accuracy: 0.8778 - val_loss: 0.4180 - val_accuracy: 1.0000\n",
            "Epoch 17/50\n",
            "9/9 [==============================] - 0s 9ms/step - loss: 0.4902 - accuracy: 0.9111 - val_loss: 0.3422 - val_accuracy: 1.0000\n",
            "Epoch 18/50\n",
            "9/9 [==============================] - 0s 6ms/step - loss: 0.4483 - accuracy: 0.9000 - val_loss: 0.3182 - val_accuracy: 1.0000\n",
            "Epoch 19/50\n",
            "9/9 [==============================] - 0s 6ms/step - loss: 0.4182 - accuracy: 0.9000 - val_loss: 0.2993 - val_accuracy: 1.0000\n",
            "Epoch 20/50\n",
            "9/9 [==============================] - 0s 7ms/step - loss: 0.3599 - accuracy: 0.9333 - val_loss: 0.2990 - val_accuracy: 1.0000\n",
            "Epoch 21/50\n",
            "9/9 [==============================] - 0s 8ms/step - loss: 0.3529 - accuracy: 0.9111 - val_loss: 0.2286 - val_accuracy: 1.0000\n",
            "Epoch 22/50\n",
            "9/9 [==============================] - 0s 8ms/step - loss: 0.2916 - accuracy: 0.9444 - val_loss: 0.1786 - val_accuracy: 1.0000\n",
            "Epoch 23/50\n",
            "9/9 [==============================] - 0s 7ms/step - loss: 0.2604 - accuracy: 0.9556 - val_loss: 0.2042 - val_accuracy: 1.0000\n",
            "Epoch 24/50\n",
            "9/9 [==============================] - 0s 9ms/step - loss: 0.2401 - accuracy: 0.9444 - val_loss: 0.1429 - val_accuracy: 1.0000\n",
            "Epoch 25/50\n",
            "9/9 [==============================] - 0s 6ms/step - loss: 0.2481 - accuracy: 0.9333 - val_loss: 0.1374 - val_accuracy: 1.0000\n",
            "Epoch 26/50\n",
            "9/9 [==============================] - 0s 6ms/step - loss: 0.2261 - accuracy: 0.9444 - val_loss: 0.1690 - val_accuracy: 1.0000\n",
            "Epoch 27/50\n",
            "9/9 [==============================] - 0s 6ms/step - loss: 0.2275 - accuracy: 0.9222 - val_loss: 0.1163 - val_accuracy: 1.0000\n",
            "Epoch 28/50\n",
            "9/9 [==============================] - 0s 7ms/step - loss: 0.2012 - accuracy: 0.9556 - val_loss: 0.1126 - val_accuracy: 1.0000\n",
            "Epoch 29/50\n",
            "9/9 [==============================] - 0s 6ms/step - loss: 0.2123 - accuracy: 0.9222 - val_loss: 0.1109 - val_accuracy: 1.0000\n",
            "Epoch 30/50\n",
            "9/9 [==============================] - 0s 7ms/step - loss: 0.2075 - accuracy: 0.9333 - val_loss: 0.1271 - val_accuracy: 1.0000\n",
            "Epoch 31/50\n",
            "9/9 [==============================] - 0s 8ms/step - loss: 0.2547 - accuracy: 0.9111 - val_loss: 0.1277 - val_accuracy: 1.0000\n",
            "Epoch 32/50\n",
            "9/9 [==============================] - 0s 10ms/step - loss: 0.2118 - accuracy: 0.9444 - val_loss: 0.0726 - val_accuracy: 1.0000\n",
            "Epoch 33/50\n",
            "9/9 [==============================] - 0s 10ms/step - loss: 0.1394 - accuracy: 0.9778 - val_loss: 0.0986 - val_accuracy: 1.0000\n",
            "Epoch 34/50\n",
            "9/9 [==============================] - 0s 9ms/step - loss: 0.1842 - accuracy: 0.9222 - val_loss: 0.0808 - val_accuracy: 1.0000\n",
            "Epoch 35/50\n",
            "9/9 [==============================] - 0s 9ms/step - loss: 0.1374 - accuracy: 0.9556 - val_loss: 0.0743 - val_accuracy: 1.0000\n",
            "Epoch 36/50\n",
            "9/9 [==============================] - 0s 11ms/step - loss: 0.1240 - accuracy: 0.9778 - val_loss: 0.0576 - val_accuracy: 1.0000\n",
            "Epoch 37/50\n",
            "9/9 [==============================] - 0s 11ms/step - loss: 0.1199 - accuracy: 0.9889 - val_loss: 0.0844 - val_accuracy: 1.0000\n",
            "Epoch 38/50\n",
            "9/9 [==============================] - 0s 9ms/step - loss: 0.1205 - accuracy: 0.9667 - val_loss: 0.0442 - val_accuracy: 1.0000\n",
            "Epoch 39/50\n",
            "9/9 [==============================] - 0s 9ms/step - loss: 0.1389 - accuracy: 0.9667 - val_loss: 0.1127 - val_accuracy: 1.0000\n",
            "Epoch 40/50\n",
            "9/9 [==============================] - 0s 11ms/step - loss: 0.1331 - accuracy: 0.9556 - val_loss: 0.0491 - val_accuracy: 1.0000\n",
            "Epoch 41/50\n",
            "9/9 [==============================] - 0s 10ms/step - loss: 0.1528 - accuracy: 0.9222 - val_loss: 0.0451 - val_accuracy: 1.0000\n",
            "Epoch 42/50\n",
            "9/9 [==============================] - 0s 13ms/step - loss: 0.1431 - accuracy: 0.9556 - val_loss: 0.0703 - val_accuracy: 1.0000\n",
            "Epoch 43/50\n",
            "9/9 [==============================] - 0s 12ms/step - loss: 0.1292 - accuracy: 0.9556 - val_loss: 0.0981 - val_accuracy: 1.0000\n",
            "Epoch 44/50\n",
            "9/9 [==============================] - 0s 12ms/step - loss: 0.2723 - accuracy: 0.8778 - val_loss: 0.1090 - val_accuracy: 1.0000\n",
            "Epoch 45/50\n",
            "9/9 [==============================] - 0s 8ms/step - loss: 0.1141 - accuracy: 0.9667 - val_loss: 0.0797 - val_accuracy: 1.0000\n",
            "Epoch 46/50\n",
            "9/9 [==============================] - 0s 10ms/step - loss: 0.2059 - accuracy: 0.9000 - val_loss: 0.0332 - val_accuracy: 1.0000\n",
            "Epoch 47/50\n",
            "9/9 [==============================] - 0s 9ms/step - loss: 0.1844 - accuracy: 0.9222 - val_loss: 0.0343 - val_accuracy: 1.0000\n",
            "Epoch 48/50\n",
            "9/9 [==============================] - 0s 9ms/step - loss: 0.1981 - accuracy: 0.9333 - val_loss: 0.0325 - val_accuracy: 1.0000\n",
            "Epoch 49/50\n",
            "9/9 [==============================] - 0s 11ms/step - loss: 0.1310 - accuracy: 0.9444 - val_loss: 0.0474 - val_accuracy: 1.0000\n",
            "Epoch 50/50\n",
            "9/9 [==============================] - 0s 11ms/step - loss: 0.1136 - accuracy: 0.9667 - val_loss: 0.0349 - val_accuracy: 1.0000\n"
          ]
        },
        {
          "output_type": "execute_result",
          "data": {
            "text/plain": [
              "<keras.callbacks.History at 0x7f9e7c0fed90>"
            ]
          },
          "metadata": {},
          "execution_count": 44
        }
      ]
    },
    {
      "cell_type": "code",
      "source": [
        "model.history.history.keys()"
      ],
      "metadata": {
        "colab": {
          "base_uri": "https://localhost:8080/"
        },
        "id": "bQ61vrJUaoWa",
        "outputId": "46d9b744-101a-4505-9d78-3a31db313ce5"
      },
      "execution_count": 45,
      "outputs": [
        {
          "output_type": "execute_result",
          "data": {
            "text/plain": [
              "dict_keys(['loss', 'accuracy', 'val_loss', 'val_accuracy'])"
            ]
          },
          "metadata": {},
          "execution_count": 45
        }
      ]
    },
    {
      "cell_type": "code",
      "source": [
        "model.history.history['loss']"
      ],
      "metadata": {
        "colab": {
          "base_uri": "https://localhost:8080/"
        },
        "id": "OUMKyQNCclNB",
        "outputId": "5456a91d-43dd-4521-82f3-a5342d02642b"
      },
      "execution_count": 46,
      "outputs": [
        {
          "output_type": "execute_result",
          "data": {
            "text/plain": [
              "[1.1259479522705078,\n",
              " 1.0801223516464233,\n",
              " 1.0496671199798584,\n",
              " 1.008104920387268,\n",
              " 0.9674712419509888,\n",
              " 0.9300650954246521,\n",
              " 0.9023533463478088,\n",
              " 0.8631396889686584,\n",
              " 0.840678334236145,\n",
              " 0.804660439491272,\n",
              " 0.7610138058662415,\n",
              " 0.7169332504272461,\n",
              " 0.6807911992073059,\n",
              " 0.6548117995262146,\n",
              " 0.582549512386322,\n",
              " 0.5434465408325195,\n",
              " 0.490212082862854,\n",
              " 0.44834259152412415,\n",
              " 0.41815754771232605,\n",
              " 0.35992950201034546,\n",
              " 0.3529438376426697,\n",
              " 0.2915865182876587,\n",
              " 0.2603893280029297,\n",
              " 0.2400604635477066,\n",
              " 0.24814826250076294,\n",
              " 0.22609414160251617,\n",
              " 0.22745780646800995,\n",
              " 0.20123182237148285,\n",
              " 0.21230748295783997,\n",
              " 0.2075343281030655,\n",
              " 0.254660040140152,\n",
              " 0.21179184317588806,\n",
              " 0.13936106860637665,\n",
              " 0.18415947258472443,\n",
              " 0.13743606209754944,\n",
              " 0.12404324114322662,\n",
              " 0.11988022923469543,\n",
              " 0.12053193151950836,\n",
              " 0.13892747461795807,\n",
              " 0.1330992877483368,\n",
              " 0.1528175324201584,\n",
              " 0.14310622215270996,\n",
              " 0.12920978665351868,\n",
              " 0.2723366916179657,\n",
              " 0.11410295963287354,\n",
              " 0.20586028695106506,\n",
              " 0.18443571031093597,\n",
              " 0.19810758531093597,\n",
              " 0.13104912638664246,\n",
              " 0.11363383382558823]"
            ]
          },
          "metadata": {},
          "execution_count": 46
        }
      ]
    },
    {
      "cell_type": "markdown",
      "source": [
        "##plotting the loss and accuracy with number of epochs"
      ],
      "metadata": {
        "id": "TgwTKLPCuxcj"
      }
    },
    {
      "cell_type": "code",
      "source": [
        "plt.figure(figsize=(6,6))\n",
        "plt.subplot(1,2,1)\n",
        "plt.plot(np.arange(50),model.history.history['loss'],color='r',label='training_loss')\n",
        "plt.plot(np.arange(50),model.history.history['accuracy'],color='g',label='train_accuracy')\n",
        "plt.legend(loc=0)\n",
        "plt.subplot(1,2,2)\n",
        "plt.plot(np.arange(50),model.history.history['val_loss'],color='r',label='val_loss')\n",
        "plt.plot(np.arange(50),model.history.history['val_accuracy'],color='g',label='val_accuracy')\n",
        "plt.legend(loc=0)\n",
        "plt.show()"
      ],
      "metadata": {
        "colab": {
          "base_uri": "https://localhost:8080/",
          "height": 374
        },
        "id": "_lCgYmWVctI5",
        "outputId": "4a14133c-7e5a-498e-c1d4-fc13a6256e77"
      },
      "execution_count": 47,
      "outputs": [
        {
          "output_type": "display_data",
          "data": {
            "text/plain": [
              "<Figure size 432x432 with 2 Axes>"
            ],
            "image/png": "[encoded data removed]"
          },
          "metadata": {
            "needs_background": "light"
          }
        }
      ]
    },
    {
      "cell_type": "code",
      "source": [
        "y_test_pred=model.predict(x_test)"
      ],
      "metadata": {
        "colab": {
          "base_uri": "https://localhost:8080/"
        },
        "id": "QYaX-vH4pgzg",
        "outputId": "f84fdafd-e73c-44e4-99cf-b0eff9cda8a7"
      },
      "execution_count": 48,
      "outputs": [
        {
          "output_type": "stream",
          "name": "stdout",
          "text": [
            "2/2 [==============================] - 0s 9ms/step\n"
          ]
        }
      ]
    },
    {
      "cell_type": "code",
      "source": [
        "y_test_pred[:10]"
      ],
      "metadata": {
        "colab": {
          "base_uri": "https://localhost:8080/"
        },
        "id": "iTn5le4epus4",
        "outputId": "bf032106-b1fa-4646-9062-9e308aa79160"
      },
      "execution_count": 49,
      "outputs": [
        {
          "output_type": "execute_result",
          "data": {
            "text/plain": [
              "array([[2.1538984e-03, 9.7959489e-01, 1.8251145e-02],\n",
              "       [9.8749042e-01, 1.2483161e-02, 2.6422314e-05],\n",
              "       [3.2147411e-05, 2.3736376e-02, 9.7623152e-01],\n",
              "       [1.8297416e-03, 9.5146126e-01, 4.6709009e-02],\n",
              "       [3.5375699e-03, 9.8877949e-01, 7.6828669e-03],\n",
              "       [9.8731208e-01, 1.2660489e-02, 2.7398342e-05],\n",
              "       [3.2301221e-02, 9.6515882e-01, 2.5398603e-03],\n",
              "       [1.1954933e-04, 1.1048080e-01, 8.8939953e-01],\n",
              "       [5.8795675e-04, 4.9290824e-01, 5.0650376e-01],\n",
              "       [1.2859207e-02, 9.8419428e-01, 2.9465475e-03]], dtype=float32)"
            ]
          },
          "metadata": {},
          "execution_count": 49
        }
      ]
    },
    {
      "cell_type": "code",
      "source": [
        "c=[]\n",
        "for i in y_test_pred:\n",
        "    c.append(np.argmax(i))"
      ],
      "metadata": {
        "id": "-huP9Dtvp1gJ"
      },
      "execution_count": 60,
      "outputs": []
    },
    {
      "cell_type": "code",
      "source": [
        "len(c)"
      ],
      "metadata": {
        "colab": {
          "base_uri": "https://localhost:8080/"
        },
        "id": "JMWq5GARquKr",
        "outputId": "e2a11ca4-815c-4aee-efa5-168507aa34b9"
      },
      "execution_count": 61,
      "outputs": [
        {
          "output_type": "execute_result",
          "data": {
            "text/plain": [
              "50"
            ]
          },
          "metadata": {},
          "execution_count": 61
        }
      ]
    },
    {
      "cell_type": "code",
      "source": [
        "y_test_pred.shape"
      ],
      "metadata": {
        "colab": {
          "base_uri": "https://localhost:8080/"
        },
        "id": "1YqiHJ8HqzpW",
        "outputId": "267c4586-e49c-4159-f8cc-5c1732957dda"
      },
      "execution_count": 62,
      "outputs": [
        {
          "output_type": "execute_result",
          "data": {
            "text/plain": [
              "(50, 3)"
            ]
          },
          "metadata": {},
          "execution_count": 62
        }
      ]
    },
    {
      "cell_type": "code",
      "source": [
        "c[:10]"
      ],
      "metadata": {
        "colab": {
          "base_uri": "https://localhost:8080/"
        },
        "id": "b8ncAJ4XqD65",
        "outputId": "30be8696-afd6-4757-bff9-99dfbd09cc72"
      },
      "execution_count": 63,
      "outputs": [
        {
          "output_type": "execute_result",
          "data": {
            "text/plain": [
              "[1, 0, 2, 1, 1, 0, 1, 2, 2, 1]"
            ]
          },
          "metadata": {},
          "execution_count": 63
        }
      ]
    },
    {
      "cell_type": "markdown",
      "source": [
        "##performance of the model"
      ],
      "metadata": {
        "id": "5Nr17GYju67e"
      }
    },
    {
      "cell_type": "code",
      "source": [
        "from sklearn.metrics import accuracy_score,classification_report,confusion_matrix"
      ],
      "metadata": {
        "id": "LLxWkwEpqQsO"
      },
      "execution_count": 64,
      "outputs": []
    },
    {
      "cell_type": "code",
      "source": [
        "accuracy_score(y_test,c)"
      ],
      "metadata": {
        "colab": {
          "base_uri": "https://localhost:8080/"
        },
        "id": "BVSHzFCXqeF_",
        "outputId": "bdc44136-3b11-43ba-ae4f-7e4fe8c9a210"
      },
      "execution_count": 65,
      "outputs": [
        {
          "output_type": "execute_result",
          "data": {
            "text/plain": [
              "0.96"
            ]
          },
          "metadata": {},
          "execution_count": 65
        }
      ]
    },
    {
      "cell_type": "code",
      "source": [
        "confusion_matrix(y_test,c)"
      ],
      "metadata": {
        "colab": {
          "base_uri": "https://localhost:8080/"
        },
        "id": "x3rvMppKrPe7",
        "outputId": "e2e60b2e-fcf5-407c-ff27-018347c216c3"
      },
      "execution_count": 67,
      "outputs": [
        {
          "output_type": "execute_result",
          "data": {
            "text/plain": [
              "array([[19,  0,  0],\n",
              "       [ 0, 14,  1],\n",
              "       [ 0,  1, 15]])"
            ]
          },
          "metadata": {},
          "execution_count": 67
        }
      ]
    },
    {
      "cell_type": "code",
      "source": [
        "print(classification_report(y_test,c))"
      ],
      "metadata": {
        "colab": {
          "base_uri": "https://localhost:8080/"
        },
        "id": "Urk8ENbKqm1J",
        "outputId": "398591f8-6839-4b32-ba45-c054b3cc88ed"
      },
      "execution_count": 68,
      "outputs": [
        {
          "output_type": "stream",
          "name": "stdout",
          "text": [
            "              precision    recall  f1-score   support\n",
            "\n",
            "           0       1.00      1.00      1.00        19\n",
            "           1       0.93      0.93      0.93        15\n",
            "           2       0.94      0.94      0.94        16\n",
            "\n",
            "    accuracy                           0.96        50\n",
            "   macro avg       0.96      0.96      0.96        50\n",
            "weighted avg       0.96      0.96      0.96        50\n",
            "\n"
          ]
        }
      ]
    },
    {
      "cell_type": "markdown",
      "source": [
        "##predicting with the data given "
      ],
      "metadata": {
        "id": "SLAIcOs8vBV3"
      }
    },
    {
      "cell_type": "code",
      "source": [
        "sol=[]\n",
        "for i in x_test.iloc[0]:\n",
        "  sol.append(i)"
      ],
      "metadata": {
        "id": "-a3NzV-hrOcK"
      },
      "execution_count": 69,
      "outputs": []
    },
    {
      "cell_type": "code",
      "source": [
        "sol"
      ],
      "metadata": {
        "colab": {
          "base_uri": "https://localhost:8080/"
        },
        "id": "S6u69yYxrcmx",
        "outputId": "e8604ff9-bbfb-4700-9473-207d8805b139"
      },
      "execution_count": 70,
      "outputs": [
        {
          "output_type": "execute_result",
          "data": {
            "text/plain": [
              "[6.1, 2.8, 4.7, 1.2]"
            ]
          },
          "metadata": {},
          "execution_count": 70
        }
      ]
    },
    {
      "cell_type": "markdown",
      "source": [
        "##predicting the model with our own data and giving the predictions"
      ],
      "metadata": {
        "id": "k4dF3gksvKyh"
      }
    },
    {
      "cell_type": "code",
      "source": [
        "def sol(*args):\n",
        "  x=[]\n",
        "  z=[]\n",
        "  for i in args:\n",
        "    x.append(i)\n",
        "  y_pred=model.predict([x])\n",
        "  for j in y_pred:\n",
        "    z.append(np.argmax(j))\n",
        "  if z==0:\n",
        "    print('iris_setosa')\n",
        "  elif z==1:\n",
        "    print('iris-versicolor')\n",
        "  else:\n",
        "    print('iris-veerginica')    \n",
        "sol(1.1,1.1,2,1.3)\n",
        "  \n"
      ],
      "metadata": {
        "colab": {
          "base_uri": "https://localhost:8080/"
        },
        "id": "msoYhAVqrwsZ",
        "outputId": "381c003a-f349-47aa-81bc-7d27cb366dd1"
      },
      "execution_count": 80,
      "outputs": [
        {
          "output_type": "stream",
          "name": "stdout",
          "text": [
            "1/1 [==============================] - 0s 51ms/step\n",
            "iris-versica\n"
          ]
        }
      ]
    },
    {
      "cell_type": "markdown",
      "source": [],
      "metadata": {
        "id": "OPSv5uBwuD_e"
      }
    },
    {
      "cell_type": "code",
      "source": [
        "sol(1.3,2,3,4)"
      ],
      "metadata": {
        "colab": {
          "base_uri": "https://localhost:8080/"
        },
        "id": "ZzjpFIK9smj-",
        "outputId": "5ba79aa6-7391-4fe4-eb88-0e50a1250a0c"
      },
      "execution_count": 77,
      "outputs": [
        {
          "output_type": "stream",
          "name": "stdout",
          "text": [
            "1/1 [==============================] - 0s 75ms/step\n",
            "[2]\n"
          ]
        }
      ]
    },
    {
      "cell_type": "code",
      "source": [
        "sol(6.1,2.8,4.7,4)"
      ],
      "metadata": {
        "colab": {
          "base_uri": "https://localhost:8080/"
        },
        "id": "jwO97kjKs_0P",
        "outputId": "a3ed10df-38e2-4c9b-963f-49da2f6a1fc1"
      },
      "execution_count": 78,
      "outputs": [
        {
          "output_type": "stream",
          "name": "stdout",
          "text": [
            "1/1 [==============================] - 0s 70ms/step\n",
            "[2]\n"
          ]
        }
      ]
    },
    {
      "cell_type": "code",
      "source": [
        "sol(5.1,3.5,1.4,0.2)"
      ],
      "metadata": {
        "colab": {
          "base_uri": "https://localhost:8080/"
        },
        "id": "9J_coJrFtOQz",
        "outputId": "ddd127c1-fc67-4233-c4f8-70a428f501a0"
      },
      "execution_count": 79,
      "outputs": [
        {
          "output_type": "stream",
          "name": "stdout",
          "text": [
            "1/1 [==============================] - 0s 105ms/step\n",
            "[0]\n"
          ]
        }
      ]
    },
    {
      "cell_type": "code",
      "source": [],
      "metadata": {
        "id": "VZRMEyNatbYT"
      },
      "execution_count": null,
      "outputs": []
    }
  ]
}